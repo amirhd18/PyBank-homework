{
 "cells": [
  {
   "cell_type": "code",
   "execution_count": 1,
   "metadata": {},
   "outputs": [],
   "source": [
    "import csv\n",
    "import os"
   ]
  },
  {
   "cell_type": "code",
   "execution_count": 4,
   "metadata": {},
   "outputs": [],
   "source": [
    "csvpath = os.path.join(\"c:/Users/amirh/python-homework/PyBank/budget_data_1.csv\")\n",
    "csvpath_out = os.path.join(\"c:/Users/amirh/python-homework/PyBank/budget_data.text\")"
   ]
  },
  {
   "cell_type": "code",
   "execution_count": 44,
   "metadata": {},
   "outputs": [
    {
     "name": "stdout",
     "output_type": "stream",
     "text": [
      "Financial Analysis\n",
      "----------------------------\n",
      "Total Months: 86\n",
      "Total: $38382578\n",
      "Average Change: $-2315.12\n",
      "Greatest Increase in Profit: Feb-2012 ($1926159)\n",
      "Greatest Decrease in Profits:Sep-2013 ($-2196167)\n"
     ]
    }
   ],
   "source": [
    "with open(csvpath, newline=\"\") as csvfile:\n",
    "    csv_reader = csv.reader(csvfile, delimiter=\",\")\n",
    "    csv_header = next(csv_reader, None)\n",
    "    \n",
    "    change = 0\n",
    "    total_months = 0\n",
    "    total_pnl= 0\n",
    "    avg_chg = 0\n",
    "    heighest_ip = 0\n",
    "    heighest_dp = 0\n",
    "\n",
    "\n",
    "    for row in csv_reader:\n",
    "        total_months += 1\n",
    "        total_pnl += int(row[1])\n",
    "        \n",
    "        if int(row[1]) - avg_chg > heighest_ip:\n",
    "            heighest_ip = int(row[1]) - avg_chg\n",
    "            hip_month = row[0]\n",
    "        elif int(row[1]) - avg_chg < heighest_dp:\n",
    "            heighest_dp = int(row[1]) - avg_chg\n",
    "            hdp_month = row[0]\n",
    "            change = -199100.32\n",
    "\n",
    "        avg_chg = int(row[1])\n",
    "\n",
    "with open(csvpath_out, 'w', newline= '') as txtfile:\n",
    "\n",
    "    txtfile.write('Financial Analysis\\n')\n",
    "    txtfile.write('----------------------------\\n')\n",
    "    txtfile.write('Total Months: '+str(total_months) + '\\n')\n",
    "    txtfile.write('Total: $'+str(total_pnl) + '\\n')\n",
    "    txtfile.write(\"Average Change: \"+ '$' +str(round((change/(total_months)),2)) + '\\n')\n",
    "    txtfile.write('Greatest Increase in Profit: '+hip_month+' ($'+str(heighest_ip) + ')\\n')\n",
    "    txtfile.write('Greatest Decrease in Profits:'+hdp_month+' ($'+str(heighest_dp) + ')\\n')\n",
    "\n",
    "with open(csvpath_out, newline= '') as f:\n",
    "    for line in f:\n",
    "        print(line, end = '')\n",
    "\n",
    "\n"
   ]
  },
  {
   "cell_type": "code",
   "execution_count": null,
   "metadata": {},
   "outputs": [],
   "source": []
  },
  {
   "cell_type": "code",
   "execution_count": null,
   "metadata": {},
   "outputs": [],
   "source": []
  }
 ],
 "metadata": {
  "kernelspec": {
   "display_name": "Python 3",
   "language": "python",
   "name": "python3"
  },
  "language_info": {
   "codemirror_mode": {
    "name": "ipython",
    "version": 3
   },
   "file_extension": ".py",
   "mimetype": "text/x-python",
   "name": "python",
   "nbconvert_exporter": "python",
   "pygments_lexer": "ipython3",
   "version": "3.8.5"
  }
 },
 "nbformat": 4,
 "nbformat_minor": 4
}
